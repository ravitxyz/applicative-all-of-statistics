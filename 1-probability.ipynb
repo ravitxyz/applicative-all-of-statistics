{
 "cells": [
  {
   "cell_type": "markdown",
   "metadata": {},
   "source": [
    "# All of Statistics\n",
    "## Larry Wasserman"
   ]
  },
  {
   "cell_type": "markdown",
   "metadata": {},
   "source": [
    "### Probability"
   ]
  },
  {
   "cell_type": "markdown",
   "metadata": {},
   "source": [
    "Equations <br> <br>\n",
    "$e^{i} + 1 = 0$"
   ]
  },
  {
   "cell_type": "markdown",
   "metadata": {},
   "source": [
    "Let $X$ be a continuous random variable with CDF $F(x) = \\log_{c}(x)$\n",
    "where $x \\in [1,c]$ and $c \\in R$.\n",
    "\n"
   ]
  },
  {
   "cell_type": "markdown",
   "metadata": {},
   "source": [
    "- $\\Omega$ - sample space\n",
    "- $\\omega$ - outcome\n",
    "- $A$ - event\n",
    "- $|A|$ - number of points in A if A is finite\n",
    "- $A^\\complement$ - compliment of A (not A)\n",
    "- $A\\cup B$ - union of A and B\n",
    "- $A\\cap B$ - intersection of A and B\n",
    "- $A - B$ - difference of A and B\n",
    "- $A \\subset B$ - inclusion / A is a subset of of equal to B\n",
    "- $\\emptyset$ - null or emplty set\n",
    "- $\\omega$ - true event"
   ]
  },
  {
   "cell_type": "markdown",
   "metadata": {},
   "source": [
    "Disjoint sets - A1, A2, A3.. are disjoint sets if for all $ i \\neq j A_i \\neq A_j$"
   ]
  },
  {
   "cell_type": "code",
   "execution_count": null,
   "metadata": {},
   "outputs": [],
   "source": []
  }
 ],
 "metadata": {
  "kernelspec": {
   "display_name": "Python 3",
   "language": "python",
   "name": "python3"
  },
  "language_info": {
   "codemirror_mode": {
    "name": "ipython",
    "version": 3
   },
   "file_extension": ".py",
   "mimetype": "text/x-python",
   "name": "python",
   "nbconvert_exporter": "python",
   "pygments_lexer": "ipython3",
   "version": "3.7.3"
  }
 },
 "nbformat": 4,
 "nbformat_minor": 2
}
